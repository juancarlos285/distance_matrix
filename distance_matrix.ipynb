{
 "cells": [
  {
   "cell_type": "code",
   "execution_count": null,
   "metadata": {},
   "outputs": [],
   "source": [
    "import requests\n",
    "import pprint as pp\n",
    "import pandas as pd\n",
    "import sqlite3 as sql\n",
    "import os"
   ]
  },
  {
   "cell_type": "markdown",
   "metadata": {},
   "source": [
    "# API Call"
   ]
  },
  {
   "cell_type": "code",
   "execution_count": null,
   "metadata": {},
   "outputs": [],
   "source": [
    "api_key = #add your own api key as a string\n",
    "with open('origin_ids.txt') as file:\n",
    "    origin = file.read()\n",
    "with open('destination_ids.txt') as file:\n",
    "    destination = file.read()\n",
    "url = f\"https://maps.googleapis.com/maps/api/distancematrix/json?origins={origin}&destinations={destination}&mode=car&key={api_key}\"\n",
    "output = requests.get(url).json()\n",
    "pp.pprint(output)"
   ]
  },
  {
   "cell_type": "markdown",
   "metadata": {},
   "source": [
    "# 'Add-location' function"
   ]
  },
  {
   "cell_type": "code",
   "execution_count": null,
   "metadata": {},
   "outputs": [],
   "source": [
    "def add_location(document=str, location=str):\n",
    "    location = location.replace(\"|\", \"\")\n",
    "    \n",
    "    if not os.path.isfile(document):\n",
    "        with open(document, 'a+') as file:\n",
    "            file.write(location)\n",
    "    else: \n",
    "        file = open(document)\n",
    "        if file.read().count('|') >= 24:\n",
    "            print(\"You can\\'t add more locations to this file\")\n",
    "        else:\n",
    "            with open(document, 'a+') as file:\n",
    "                file.write('|' + location)\n",
    "        file.close()"
   ]
  },
  {
   "cell_type": "markdown",
   "metadata": {},
   "source": [
    "# Sorting algorithm"
   ]
  },
  {
   "cell_type": "code",
   "execution_count": null,
   "metadata": {},
   "outputs": [],
   "source": [
    "origins = [origins for origins in output['origin_addresses']]\n",
    "destinations = [destinations for destinations in output['destination_addresses']]\n",
    "\n",
    "distance_matrix = {}\n",
    "\n",
    "for origin in origins:\n",
    "    values = []\n",
    "    for element in output['rows'][origins.index(origin)]['elements']:\n",
    "        kms = element['distance']['text']\n",
    "        if \",\" in kms:\n",
    "            kms = kms.replace(\",\", \"\")\n",
    "        values.append(float(kms.strip('km')))\n",
    "    distance_matrix.update({origin:values})\n",
    "    \n",
    "df = pd.DataFrame(distance_matrix, index=destinations)\n",
    "df.index.name = 'destinations'"
   ]
  },
  {
   "cell_type": "code",
   "execution_count": null,
   "metadata": {
    "scrolled": true
   },
   "outputs": [],
   "source": [
    "df #displays the dataframe created in the cell above"
   ]
  },
  {
   "cell_type": "markdown",
   "metadata": {},
   "source": [
    "# Store data in database"
   ]
  },
  {
   "cell_type": "code",
   "execution_count": null,
   "metadata": {},
   "outputs": [],
   "source": [
    "DB = \"distance_table.db\"\n",
    "\n",
    "try:\n",
    "    with sql.connect(DB) as db:\n",
    "        df.to_sql(\"distance_table\", db, if_exists='append', index_label='destinations')\n",
    "except sql.Error as e:\n",
    "    print(\"Error in database\", e.args[0])\n",
    "except Exception as err:\n",
    "    print(\"Other error\", err)"
   ]
  },
  {
   "cell_type": "markdown",
   "metadata": {},
   "source": [
    "# From SQL database to DataFrame"
   ]
  },
  {
   "cell_type": "code",
   "execution_count": null,
   "metadata": {
    "scrolled": true
   },
   "outputs": [],
   "source": [
    "try:\n",
    "    with sql.connect(DB) as db:\n",
    "        cursor = db.cursor()\n",
    "        cursor.execute(\"SELECT * FROM distance_table\")\n",
    "        df2 = pd.DataFrame(cursor.fetchall(), columns=[i[0] for i in cursor.description])  \n",
    "except sql.Error as e:\n",
    "    print('Error in database', e.args[0])\n",
    "except Exception as err:\n",
    "    print(\"Other error\", err)"
   ]
  },
  {
   "cell_type": "code",
   "execution_count": null,
   "metadata": {},
   "outputs": [],
   "source": [
    "df2"
   ]
  }
 ],
 "metadata": {
  "interpreter": {
   "hash": "7a1aeb774b0a9712b2be8d79a0f4a7766417bf72424f4ab0e91fb9a2742f85db"
  },
  "kernelspec": {
   "display_name": "Python 3",
   "language": "python",
   "name": "python3"
  },
  "language_info": {
   "codemirror_mode": {
    "name": "ipython",
    "version": 3
   },
   "file_extension": ".py",
   "mimetype": "text/x-python",
   "name": "python",
   "nbconvert_exporter": "python",
   "pygments_lexer": "ipython3",
   "version": "3.8.5"
  }
 },
 "nbformat": 4,
 "nbformat_minor": 4
}
